{
 "cells": [
  {
   "cell_type": "markdown",
   "metadata": {},
   "source": [
    "## Observations and Insights "
   ]
  },
  {
   "cell_type": "markdown",
   "metadata": {},
   "source": []
  },
  {
   "cell_type": "code",
   "execution_count": 1,
   "metadata": {},
   "outputs": [
    {
     "output_type": "execute_result",
     "data": {
      "text/plain": [
       "  Mouse ID Drug Regimen   Sex  Age_months  Weight (g)  Timepoint  \\\n",
       "0     k403     Ramicane  Male          21          16          0   \n",
       "1     k403     Ramicane  Male          21          16          5   \n",
       "2     k403     Ramicane  Male          21          16         10   \n",
       "3     k403     Ramicane  Male          21          16         15   \n",
       "4     k403     Ramicane  Male          21          16         20   \n",
       "\n",
       "   Tumor Volume (mm3)  Metastatic Sites  \n",
       "0           45.000000                 0  \n",
       "1           38.825898                 0  \n",
       "2           35.014271                 1  \n",
       "3           34.223992                 1  \n",
       "4           32.997729                 1  "
      ],
      "text/html": "<div>\n<style scoped>\n    .dataframe tbody tr th:only-of-type {\n        vertical-align: middle;\n    }\n\n    .dataframe tbody tr th {\n        vertical-align: top;\n    }\n\n    .dataframe thead th {\n        text-align: right;\n    }\n</style>\n<table border=\"1\" class=\"dataframe\">\n  <thead>\n    <tr style=\"text-align: right;\">\n      <th></th>\n      <th>Mouse ID</th>\n      <th>Drug Regimen</th>\n      <th>Sex</th>\n      <th>Age_months</th>\n      <th>Weight (g)</th>\n      <th>Timepoint</th>\n      <th>Tumor Volume (mm3)</th>\n      <th>Metastatic Sites</th>\n    </tr>\n  </thead>\n  <tbody>\n    <tr>\n      <th>0</th>\n      <td>k403</td>\n      <td>Ramicane</td>\n      <td>Male</td>\n      <td>21</td>\n      <td>16</td>\n      <td>0</td>\n      <td>45.000000</td>\n      <td>0</td>\n    </tr>\n    <tr>\n      <th>1</th>\n      <td>k403</td>\n      <td>Ramicane</td>\n      <td>Male</td>\n      <td>21</td>\n      <td>16</td>\n      <td>5</td>\n      <td>38.825898</td>\n      <td>0</td>\n    </tr>\n    <tr>\n      <th>2</th>\n      <td>k403</td>\n      <td>Ramicane</td>\n      <td>Male</td>\n      <td>21</td>\n      <td>16</td>\n      <td>10</td>\n      <td>35.014271</td>\n      <td>1</td>\n    </tr>\n    <tr>\n      <th>3</th>\n      <td>k403</td>\n      <td>Ramicane</td>\n      <td>Male</td>\n      <td>21</td>\n      <td>16</td>\n      <td>15</td>\n      <td>34.223992</td>\n      <td>1</td>\n    </tr>\n    <tr>\n      <th>4</th>\n      <td>k403</td>\n      <td>Ramicane</td>\n      <td>Male</td>\n      <td>21</td>\n      <td>16</td>\n      <td>20</td>\n      <td>32.997729</td>\n      <td>1</td>\n    </tr>\n  </tbody>\n</table>\n</div>"
     },
     "metadata": {},
     "execution_count": 1
    }
   ],
   "source": [
    "# Dependencies and Setup\n",
    "import matplotlib.pyplot as plt\n",
    "import pandas as pd\n",
    "import scipy.stats as st\n",
    "\n",
    "# Study data files\n",
    "mouse_metadata_path = \"data/Mouse_metadata.csv\"\n",
    "study_results_path = \"data/Study_results.csv\"\n",
    "\n",
    "# Read the mouse data and the study results\n",
    "mouse_metadata = pd.read_csv(mouse_metadata_path)\n",
    "study_results = pd.read_csv(study_results_path)\n",
    "\n",
    "# Combine the data into a single dataset\n",
    "combined_data = pd.merge(mouse_metadata, study_results, how=\"outer\", on=\"Mouse ID\")\n",
    "# Display the data table for preview\n",
    "combined_data.head()"
   ]
  },
  {
   "cell_type": "code",
   "execution_count": 2,
   "metadata": {},
   "outputs": [
    {
     "output_type": "execute_result",
     "data": {
      "text/plain": [
       "1893"
      ]
     },
     "metadata": {},
     "execution_count": 2
    }
   ],
   "source": [
    "# Checking the number of mice.\n",
    "len(combined_data[\"Mouse ID\"])"
   ]
  },
  {
   "cell_type": "code",
   "execution_count": 3,
   "metadata": {},
   "outputs": [
    {
     "output_type": "execute_result",
     "data": {
      "text/plain": [
       "909    g989\n",
       "911    g989\n",
       "913    g989\n",
       "915    g989\n",
       "917    g989\n",
       "Name: Mouse ID, dtype: object"
      ]
     },
     "metadata": {},
     "execution_count": 3
    }
   ],
   "source": [
    "# Getting the duplicate mice by ID number that shows up for Mouse ID and Timepoint. \n",
    "duplicates_df = combined_data[combined_data.duplicated([\"Mouse ID\", \"Timepoint\"], keep = \"first\")]\n",
    "duplicates_df[\"Mouse ID\"]\n"
   ]
  },
  {
   "cell_type": "code",
   "execution_count": 4,
   "metadata": {},
   "outputs": [
    {
     "output_type": "execute_result",
     "data": {
      "text/plain": [
       "    Mouse ID Drug Regimen     Sex  Age_months  Weight (g)  Timepoint  \\\n",
       "909     g989     Propriva  Female          21          26          0   \n",
       "911     g989     Propriva  Female          21          26          5   \n",
       "913     g989     Propriva  Female          21          26         10   \n",
       "915     g989     Propriva  Female          21          26         15   \n",
       "917     g989     Propriva  Female          21          26         20   \n",
       "\n",
       "     Tumor Volume (mm3)  Metastatic Sites  \n",
       "909           45.000000                 0  \n",
       "911           47.570392                 0  \n",
       "913           49.880528                 0  \n",
       "915           53.442020                 0  \n",
       "917           54.657650                 1  "
      ],
      "text/html": "<div>\n<style scoped>\n    .dataframe tbody tr th:only-of-type {\n        vertical-align: middle;\n    }\n\n    .dataframe tbody tr th {\n        vertical-align: top;\n    }\n\n    .dataframe thead th {\n        text-align: right;\n    }\n</style>\n<table border=\"1\" class=\"dataframe\">\n  <thead>\n    <tr style=\"text-align: right;\">\n      <th></th>\n      <th>Mouse ID</th>\n      <th>Drug Regimen</th>\n      <th>Sex</th>\n      <th>Age_months</th>\n      <th>Weight (g)</th>\n      <th>Timepoint</th>\n      <th>Tumor Volume (mm3)</th>\n      <th>Metastatic Sites</th>\n    </tr>\n  </thead>\n  <tbody>\n    <tr>\n      <th>909</th>\n      <td>g989</td>\n      <td>Propriva</td>\n      <td>Female</td>\n      <td>21</td>\n      <td>26</td>\n      <td>0</td>\n      <td>45.000000</td>\n      <td>0</td>\n    </tr>\n    <tr>\n      <th>911</th>\n      <td>g989</td>\n      <td>Propriva</td>\n      <td>Female</td>\n      <td>21</td>\n      <td>26</td>\n      <td>5</td>\n      <td>47.570392</td>\n      <td>0</td>\n    </tr>\n    <tr>\n      <th>913</th>\n      <td>g989</td>\n      <td>Propriva</td>\n      <td>Female</td>\n      <td>21</td>\n      <td>26</td>\n      <td>10</td>\n      <td>49.880528</td>\n      <td>0</td>\n    </tr>\n    <tr>\n      <th>915</th>\n      <td>g989</td>\n      <td>Propriva</td>\n      <td>Female</td>\n      <td>21</td>\n      <td>26</td>\n      <td>15</td>\n      <td>53.442020</td>\n      <td>0</td>\n    </tr>\n    <tr>\n      <th>917</th>\n      <td>g989</td>\n      <td>Propriva</td>\n      <td>Female</td>\n      <td>21</td>\n      <td>26</td>\n      <td>20</td>\n      <td>54.657650</td>\n      <td>1</td>\n    </tr>\n  </tbody>\n</table>\n</div>"
     },
     "metadata": {},
     "execution_count": 4
    }
   ],
   "source": [
    "# Optional: Get all the data for the duplicate mouse ID. \n",
    "duplicates_df = combined_data[combined_data.duplicated([\"Mouse ID\", \"Timepoint\"], keep = \"first\")]\n",
    "duplicates_df\n"
   ]
  },
  {
   "cell_type": "code",
   "execution_count": 5,
   "metadata": {},
   "outputs": [
    {
     "output_type": "execute_result",
     "data": {
      "text/plain": [
       "  Mouse ID Drug Regimen   Sex  Age_months  Weight (g)  Timepoint  \\\n",
       "0     k403     Ramicane  Male          21          16          0   \n",
       "1     k403     Ramicane  Male          21          16          5   \n",
       "2     k403     Ramicane  Male          21          16         10   \n",
       "3     k403     Ramicane  Male          21          16         15   \n",
       "4     k403     Ramicane  Male          21          16         20   \n",
       "\n",
       "   Tumor Volume (mm3)  Metastatic Sites  \n",
       "0           45.000000                 0  \n",
       "1           38.825898                 0  \n",
       "2           35.014271                 1  \n",
       "3           34.223992                 1  \n",
       "4           32.997729                 1  "
      ],
      "text/html": "<div>\n<style scoped>\n    .dataframe tbody tr th:only-of-type {\n        vertical-align: middle;\n    }\n\n    .dataframe tbody tr th {\n        vertical-align: top;\n    }\n\n    .dataframe thead th {\n        text-align: right;\n    }\n</style>\n<table border=\"1\" class=\"dataframe\">\n  <thead>\n    <tr style=\"text-align: right;\">\n      <th></th>\n      <th>Mouse ID</th>\n      <th>Drug Regimen</th>\n      <th>Sex</th>\n      <th>Age_months</th>\n      <th>Weight (g)</th>\n      <th>Timepoint</th>\n      <th>Tumor Volume (mm3)</th>\n      <th>Metastatic Sites</th>\n    </tr>\n  </thead>\n  <tbody>\n    <tr>\n      <th>0</th>\n      <td>k403</td>\n      <td>Ramicane</td>\n      <td>Male</td>\n      <td>21</td>\n      <td>16</td>\n      <td>0</td>\n      <td>45.000000</td>\n      <td>0</td>\n    </tr>\n    <tr>\n      <th>1</th>\n      <td>k403</td>\n      <td>Ramicane</td>\n      <td>Male</td>\n      <td>21</td>\n      <td>16</td>\n      <td>5</td>\n      <td>38.825898</td>\n      <td>0</td>\n    </tr>\n    <tr>\n      <th>2</th>\n      <td>k403</td>\n      <td>Ramicane</td>\n      <td>Male</td>\n      <td>21</td>\n      <td>16</td>\n      <td>10</td>\n      <td>35.014271</td>\n      <td>1</td>\n    </tr>\n    <tr>\n      <th>3</th>\n      <td>k403</td>\n      <td>Ramicane</td>\n      <td>Male</td>\n      <td>21</td>\n      <td>16</td>\n      <td>15</td>\n      <td>34.223992</td>\n      <td>1</td>\n    </tr>\n    <tr>\n      <th>4</th>\n      <td>k403</td>\n      <td>Ramicane</td>\n      <td>Male</td>\n      <td>21</td>\n      <td>16</td>\n      <td>20</td>\n      <td>32.997729</td>\n      <td>1</td>\n    </tr>\n  </tbody>\n</table>\n</div>"
     },
     "metadata": {},
     "execution_count": 5
    }
   ],
   "source": [
    "# Create a clean DataFrame by dropping the duplicate mouse by its ID.\n",
    "clean_data = combined_data.drop_duplicates([\"Mouse ID\", \"Timepoint\"], keep = \"first\")\n",
    "clean_data.head()"
   ]
  },
  {
   "cell_type": "code",
   "execution_count": 6,
   "metadata": {},
   "outputs": [
    {
     "output_type": "execute_result",
     "data": {
      "text/plain": [
       "1888"
      ]
     },
     "metadata": {},
     "execution_count": 6
    }
   ],
   "source": [
    "# Checking the number of mice in the clean DataFrame.\n",
    "len(clean_data[\"Mouse ID\"])"
   ]
  },
  {
   "cell_type": "markdown",
   "metadata": {},
   "source": [
    "## Summary Statistics"
   ]
  },
  {
   "cell_type": "code",
   "execution_count": 7,
   "metadata": {},
   "outputs": [
    {
     "output_type": "execute_result",
     "data": {
      "text/plain": [
       "               Mean  Median  Variance  Std Deviation   SEM\n",
       "Drug Regimen                                              \n",
       "Capomulin     40.68   41.56     24.95           4.99  0.33\n",
       "Ceftamin      52.59   51.78     39.29           6.27  0.47\n",
       "Infubinol     52.88   51.82     43.13           6.57  0.49\n",
       "Ketapril      55.24   53.70     68.55           8.28  0.60\n",
       "Naftisol      54.33   52.51     66.17           8.13  0.60\n",
       "Placebo       54.03   52.29     61.17           7.82  0.58\n",
       "Propriva      52.39   50.91     43.14           6.57  0.53\n",
       "Ramicane      40.22   40.67     23.49           4.85  0.32\n",
       "Stelasyn      54.23   52.43     59.45           7.71  0.57\n",
       "Zoniferol     53.24   51.82     48.53           6.97  0.52"
      ],
      "text/html": "<div>\n<style scoped>\n    .dataframe tbody tr th:only-of-type {\n        vertical-align: middle;\n    }\n\n    .dataframe tbody tr th {\n        vertical-align: top;\n    }\n\n    .dataframe thead th {\n        text-align: right;\n    }\n</style>\n<table border=\"1\" class=\"dataframe\">\n  <thead>\n    <tr style=\"text-align: right;\">\n      <th></th>\n      <th>Mean</th>\n      <th>Median</th>\n      <th>Variance</th>\n      <th>Std Deviation</th>\n      <th>SEM</th>\n    </tr>\n    <tr>\n      <th>Drug Regimen</th>\n      <th></th>\n      <th></th>\n      <th></th>\n      <th></th>\n      <th></th>\n    </tr>\n  </thead>\n  <tbody>\n    <tr>\n      <th>Capomulin</th>\n      <td>40.68</td>\n      <td>41.56</td>\n      <td>24.95</td>\n      <td>4.99</td>\n      <td>0.33</td>\n    </tr>\n    <tr>\n      <th>Ceftamin</th>\n      <td>52.59</td>\n      <td>51.78</td>\n      <td>39.29</td>\n      <td>6.27</td>\n      <td>0.47</td>\n    </tr>\n    <tr>\n      <th>Infubinol</th>\n      <td>52.88</td>\n      <td>51.82</td>\n      <td>43.13</td>\n      <td>6.57</td>\n      <td>0.49</td>\n    </tr>\n    <tr>\n      <th>Ketapril</th>\n      <td>55.24</td>\n      <td>53.70</td>\n      <td>68.55</td>\n      <td>8.28</td>\n      <td>0.60</td>\n    </tr>\n    <tr>\n      <th>Naftisol</th>\n      <td>54.33</td>\n      <td>52.51</td>\n      <td>66.17</td>\n      <td>8.13</td>\n      <td>0.60</td>\n    </tr>\n    <tr>\n      <th>Placebo</th>\n      <td>54.03</td>\n      <td>52.29</td>\n      <td>61.17</td>\n      <td>7.82</td>\n      <td>0.58</td>\n    </tr>\n    <tr>\n      <th>Propriva</th>\n      <td>52.39</td>\n      <td>50.91</td>\n      <td>43.14</td>\n      <td>6.57</td>\n      <td>0.53</td>\n    </tr>\n    <tr>\n      <th>Ramicane</th>\n      <td>40.22</td>\n      <td>40.67</td>\n      <td>23.49</td>\n      <td>4.85</td>\n      <td>0.32</td>\n    </tr>\n    <tr>\n      <th>Stelasyn</th>\n      <td>54.23</td>\n      <td>52.43</td>\n      <td>59.45</td>\n      <td>7.71</td>\n      <td>0.57</td>\n    </tr>\n    <tr>\n      <th>Zoniferol</th>\n      <td>53.24</td>\n      <td>51.82</td>\n      <td>48.53</td>\n      <td>6.97</td>\n      <td>0.52</td>\n    </tr>\n  </tbody>\n</table>\n</div>"
     },
     "metadata": {},
     "execution_count": 7
    }
   ],
   "source": [
    "# Generate a summary statistics table of mean, median, variance, standard deviation, and SEM of the tumor volume for each regimen\n",
    "\n",
    "# Use groupby and summary statistical methods to calculate the following properties of each drug regimen: \n",
    "regimen_group_df = clean_data.groupby([\"Drug Regimen\"])\n",
    "\n",
    "# mean, median, variance, standard deviation, and SEM of the tumor volume. \n",
    "mean_clean = regimen_group_df[\"Tumor Volume (mm3)\"].mean()\n",
    "median_clean = regimen_group_df[\"Tumor Volume (mm3)\"].median()\n",
    "variance_clean = regimen_group_df[\"Tumor Volume (mm3)\"].var()\n",
    "stddev_clean = regimen_group_df[\"Tumor Volume (mm3)\"].std()\n",
    "sem_clean = regimen_group_df[\"Tumor Volume (mm3)\"].sem()\n",
    "\n",
    "# Assemble the resulting series into a single summary dataframe.\n",
    "statistic_summary_df = pd.DataFrame({\"Mean\": mean_clean, \n",
    "    \"Median\": median_clean, \n",
    "    \"Variance\": variance_clean, \n",
    "    \"Std Deviation\": stddev_clean, \n",
    "    \"SEM\": sem_clean})\n",
    "statistic_summary_df.round(2)"
   ]
  },
  {
   "cell_type": "code",
   "execution_count": 8,
   "metadata": {},
   "outputs": [
    {
     "output_type": "execute_result",
     "data": {
      "text/plain": [
       "             Tumor Volume (mm3)                          \n",
       "                           mean median    var   std   sem\n",
       "Drug Regimen                                             \n",
       "Capomulin                 40.68  41.56  24.95  4.99  0.33\n",
       "Ceftamin                  52.59  51.78  39.29  6.27  0.47\n",
       "Infubinol                 52.88  51.82  43.13  6.57  0.49\n",
       "Ketapril                  55.24  53.70  68.55  8.28  0.60\n",
       "Naftisol                  54.33  52.51  66.17  8.13  0.60\n",
       "Placebo                   54.03  52.29  61.17  7.82  0.58\n",
       "Propriva                  52.39  50.91  43.14  6.57  0.53\n",
       "Ramicane                  40.22  40.67  23.49  4.85  0.32\n",
       "Stelasyn                  54.23  52.43  59.45  7.71  0.57\n",
       "Zoniferol                 53.24  51.82  48.53  6.97  0.52"
      ],
      "text/html": "<div>\n<style scoped>\n    .dataframe tbody tr th:only-of-type {\n        vertical-align: middle;\n    }\n\n    .dataframe tbody tr th {\n        vertical-align: top;\n    }\n\n    .dataframe thead tr th {\n        text-align: left;\n    }\n\n    .dataframe thead tr:last-of-type th {\n        text-align: right;\n    }\n</style>\n<table border=\"1\" class=\"dataframe\">\n  <thead>\n    <tr>\n      <th></th>\n      <th colspan=\"5\" halign=\"left\">Tumor Volume (mm3)</th>\n    </tr>\n    <tr>\n      <th></th>\n      <th>mean</th>\n      <th>median</th>\n      <th>var</th>\n      <th>std</th>\n      <th>sem</th>\n    </tr>\n    <tr>\n      <th>Drug Regimen</th>\n      <th></th>\n      <th></th>\n      <th></th>\n      <th></th>\n      <th></th>\n    </tr>\n  </thead>\n  <tbody>\n    <tr>\n      <th>Capomulin</th>\n      <td>40.68</td>\n      <td>41.56</td>\n      <td>24.95</td>\n      <td>4.99</td>\n      <td>0.33</td>\n    </tr>\n    <tr>\n      <th>Ceftamin</th>\n      <td>52.59</td>\n      <td>51.78</td>\n      <td>39.29</td>\n      <td>6.27</td>\n      <td>0.47</td>\n    </tr>\n    <tr>\n      <th>Infubinol</th>\n      <td>52.88</td>\n      <td>51.82</td>\n      <td>43.13</td>\n      <td>6.57</td>\n      <td>0.49</td>\n    </tr>\n    <tr>\n      <th>Ketapril</th>\n      <td>55.24</td>\n      <td>53.70</td>\n      <td>68.55</td>\n      <td>8.28</td>\n      <td>0.60</td>\n    </tr>\n    <tr>\n      <th>Naftisol</th>\n      <td>54.33</td>\n      <td>52.51</td>\n      <td>66.17</td>\n      <td>8.13</td>\n      <td>0.60</td>\n    </tr>\n    <tr>\n      <th>Placebo</th>\n      <td>54.03</td>\n      <td>52.29</td>\n      <td>61.17</td>\n      <td>7.82</td>\n      <td>0.58</td>\n    </tr>\n    <tr>\n      <th>Propriva</th>\n      <td>52.39</td>\n      <td>50.91</td>\n      <td>43.14</td>\n      <td>6.57</td>\n      <td>0.53</td>\n    </tr>\n    <tr>\n      <th>Ramicane</th>\n      <td>40.22</td>\n      <td>40.67</td>\n      <td>23.49</td>\n      <td>4.85</td>\n      <td>0.32</td>\n    </tr>\n    <tr>\n      <th>Stelasyn</th>\n      <td>54.23</td>\n      <td>52.43</td>\n      <td>59.45</td>\n      <td>7.71</td>\n      <td>0.57</td>\n    </tr>\n    <tr>\n      <th>Zoniferol</th>\n      <td>53.24</td>\n      <td>51.82</td>\n      <td>48.53</td>\n      <td>6.97</td>\n      <td>0.52</td>\n    </tr>\n  </tbody>\n</table>\n</div>"
     },
     "metadata": {},
     "execution_count": 8
    }
   ],
   "source": [
    "# Generate a summary statistics table of mean, median, variance, standard deviation, and SEM of the tumor volume for each regimen\n",
    "# Using the aggregation method, produce the same summary statistics in a single line\n",
    "aggregate_regimen = clean_data.groupby([\"Drug Regimen\"]).aggregate({\"Tumor Volume (mm3)\": [\"mean\", \"median\", \"var\",\"std\",\"sem\"]})\n",
    "aggregate_regimen.round(2)\n"
   ]
  },
  {
   "cell_type": "markdown",
   "metadata": {},
   "source": [
    "## Bar and Pie Charts"
   ]
  },
  {
   "cell_type": "code",
   "execution_count": 22,
   "metadata": {},
   "outputs": [
    {
     "output_type": "execute_result",
     "data": {
      "text/plain": [
       "<matplotlib.axes._subplots.AxesSubplot at 0x201d78472e8>"
      ]
     },
     "metadata": {},
     "execution_count": 22
    },
    {
     "output_type": "display_data",
     "data": {
      "text/plain": "<Figure size 432x288 with 1 Axes>",
      "image/png": "[encoded data removed]"
     },
     "metadata": {
      "needs_background": "light"
     }
    }
   ],
   "source": [
    "# Generate a bar plot showing the total number of timepoints for all mice tested for each drug regimen using Pandas.\n",
    "py_time = clean_data.groupby([\"Drug Regimen\"]).aggregate({\"Timepoint\": [\"count\"]})\n",
    "py_time.plot.bar(y = \"Timepoint\")\n"
   ]
  },
  {
   "cell_type": "code",
   "execution_count": 49,
   "metadata": {},
   "outputs": [
    {
     "output_type": "error",
     "ename": "TypeError",
     "evalue": "'DataFrame' object is not callable",
     "traceback": [
      "\u001b[1;31m---------------------------------------------------------------------------\u001b[0m",
      "\u001b[1;31mTypeError\u001b[0m                                 Traceback (most recent call last)",
      "\u001b[1;32m<ipython-input-49-f804716748b1>\u001b[0m in \u001b[0;36m<module>\u001b[1;34m\u001b[0m\n\u001b[0;32m      1\u001b[0m \u001b[1;31m# Generate a bar plot showing the total number of timepoints for all mice tested for each drug regimen using pyplot.\u001b[0m\u001b[1;33m\u001b[0m\u001b[1;33m\u001b[0m\u001b[1;33m\u001b[0m\u001b[0m\n\u001b[0;32m      2\u001b[0m \u001b[0mpy_time\u001b[0m \u001b[1;33m=\u001b[0m \u001b[0mclean_data\u001b[0m\u001b[1;33m.\u001b[0m\u001b[0mgroupby\u001b[0m\u001b[1;33m(\u001b[0m\u001b[1;33m[\u001b[0m\u001b[1;34m\"Drug Regimen\"\u001b[0m\u001b[1;33m]\u001b[0m\u001b[1;33m)\u001b[0m\u001b[1;33m.\u001b[0m\u001b[0maggregate\u001b[0m\u001b[1;33m(\u001b[0m\u001b[1;33m{\u001b[0m\u001b[1;34m\"Timepoint\"\u001b[0m\u001b[1;33m:\u001b[0m \u001b[1;33m[\u001b[0m\u001b[1;34m\"count\"\u001b[0m\u001b[1;33m]\u001b[0m\u001b[1;33m}\u001b[0m\u001b[1;33m)\u001b[0m\u001b[1;33m\u001b[0m\u001b[1;33m\u001b[0m\u001b[0m\n\u001b[1;32m----> 3\u001b[1;33m \u001b[0mx_axis\u001b[0m \u001b[1;33m=\u001b[0m \u001b[0mpy_time\u001b[0m\u001b[1;33m(\u001b[0m\u001b[1;34m\"Drug Regimen\"\u001b[0m\u001b[1;33m)\u001b[0m\u001b[1;33m\u001b[0m\u001b[1;33m\u001b[0m\u001b[0m\n\u001b[0m",
      "\u001b[1;31mTypeError\u001b[0m: 'DataFrame' object is not callable"
     ]
    }
   ],
   "source": [
    "# Generate a bar plot showing the total number of timepoints for all mice tested for each drug regimen using pyplot.\n",
    "# py_time = clean_data.groupby([\"Drug Regimen\"]).aggregate({\"Timepoint\": [\"count\"]})\n",
    "# x_axis = py_time(\"Drug Regimen\")\n"
   ]
  },
  {
   "cell_type": "code",
   "execution_count": 11,
   "metadata": {},
   "outputs": [],
   "source": [
    "# Generate a pie plot showing the distribution of female versus male mice using Pandas\n",
    "\n"
   ]
  },
  {
   "cell_type": "code",
   "execution_count": 12,
   "metadata": {},
   "outputs": [],
   "source": [
    "# Generate a pie plot showing the distribution of female versus male mice using pyplot\n",
    "\n"
   ]
  },
  {
   "cell_type": "markdown",
   "metadata": {},
   "source": [
    "## Quartiles, Outliers and Boxplots"
   ]
  },
  {
   "cell_type": "code",
   "execution_count": 13,
   "metadata": {},
   "outputs": [],
   "source": [
    "# Calculate the final tumor volume of each mouse across four of the treatment regimens:  \n",
    "# Capomulin, Ramicane, Infubinol, and Ceftamin\n",
    "\n",
    "# Start by getting the last (greatest) timepoint for each mouse\n",
    "\n",
    "\n",
    "# Merge this group df with the original dataframe to get the tumor volume at the last timepoint\n"
   ]
  },
  {
   "cell_type": "code",
   "execution_count": 14,
   "metadata": {},
   "outputs": [],
   "source": [
    "# Put treatments into a list for for loop (and later for plot labels)\n",
    "\n",
    "\n",
    "# Create empty list to fill with tumor vol data (for plotting)\n",
    "\n",
    "\n",
    "# Calculate the IQR and quantitatively determine if there are any potential outliers. \n",
    "\n",
    "    \n",
    "    # Locate the rows which contain mice on each drug and get the tumor volumes\n",
    "    \n",
    "    \n",
    "    # add subset \n",
    "    \n",
    "    \n",
    "    # Determine outliers using upper and lower bounds\n",
    "    "
   ]
  },
  {
   "cell_type": "code",
   "execution_count": 15,
   "metadata": {},
   "outputs": [],
   "source": [
    "# Generate a box plot of the final tumor volume of each mouse across four regimens of interest\n"
   ]
  },
  {
   "cell_type": "markdown",
   "metadata": {},
   "source": [
    "## Line and Scatter Plots"
   ]
  },
  {
   "cell_type": "code",
   "execution_count": 16,
   "metadata": {},
   "outputs": [],
   "source": [
    "# Generate a line plot of tumor volume vs. time point for a mouse treated with Capomulin\n"
   ]
  },
  {
   "cell_type": "code",
   "execution_count": 17,
   "metadata": {},
   "outputs": [],
   "source": [
    "# Generate a scatter plot of average tumor volume vs. mouse weight for the Capomulin regimen\n"
   ]
  },
  {
   "cell_type": "markdown",
   "metadata": {},
   "source": [
    "## Correlation and Regression"
   ]
  },
  {
   "cell_type": "code",
   "execution_count": 18,
   "metadata": {},
   "outputs": [],
   "source": [
    "# Calculate the correlation coefficient and linear regression model \n",
    "# for mouse weight and average tumor volume for the Capomulin regimen\n"
   ]
  },
  {
   "cell_type": "code",
   "execution_count": null,
   "metadata": {},
   "outputs": [],
   "source": []
  }
 ],
 "metadata": {
  "anaconda-cloud": {},
  "kernelspec": {
   "name": "python3610jvsc74a57bd02d9cfea98c24f9fe45dc74017fee9aee343bdf68e5b03f34f00774f8f857f24a",
   "display_name": "Python 3.6.10 64-bit ('PythonData': conda)"
  },
  "language_info": {
   "codemirror_mode": {
    "name": "ipython",
    "version": 3
   },
   "file_extension": ".py",
   "mimetype": "text/x-python",
   "name": "python",
   "nbconvert_exporter": "python",
   "pygments_lexer": "ipython3",
   "version": "3.6.10"
  }
 },
 "nbformat": 4,
 "nbformat_minor": 4
}